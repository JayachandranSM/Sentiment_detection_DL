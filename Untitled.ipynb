{
 "cells": [
  {
   "cell_type": "code",
   "execution_count": 32,
   "id": "069e59b6-c036-44fe-9d5f-4185c69b0ad6",
   "metadata": {},
   "outputs": [],
   "source": [
    "import os\n",
    "import time\n",
    "IMAGES_PATH = os.path.join('Tf1')\n",
    "!mkdir {IMAGES_PATH}"
   ]
  },
  {
   "cell_type": "code",
   "execution_count": 43,
   "id": "f4989233-7c65-4a7a-aa66-394d2d243acc",
   "metadata": {},
   "outputs": [],
   "source": [
    "cap = cv2.VideoCapture(2)\n",
    "while cap.isOpened():\n",
    "    ret, frame = cap.read()\n",
    "    cv2.imshow('webcam',frame)\n",
    "    \n",
    "    if cv2.waitKey(1) & 0xFF == ord('q'):\n",
    "            break\n",
    "cap.release()\n",
    "cv2.destroyAllWindows()"
   ]
  },
  {
   "cell_type": "code",
   "execution_count": 34,
   "id": "61754fe5-99d5-4602-8738-f5a668a6b6f1",
   "metadata": {},
   "outputs": [],
   "source": [
    "for label in labels:\n",
    "    path = os.path.join(IMAGES_PATH, label)\n",
    "    if not os.path.exists(path):\n",
    "        !mkdir {path}"
   ]
  },
  {
   "cell_type": "code",
   "execution_count": 35,
   "id": "86d214c6-18b1-417a-af31-75ada246b0d5",
   "metadata": {},
   "outputs": [
    {
     "name": "stdout",
     "output_type": "stream",
     "text": [
      "Collecting images for S\n",
      "Collecting image 0\n",
      "Image Tf1\\S\\S_0.jpg saved\n",
      "Collecting image 1\n",
      "Image Tf1\\S\\S_1.jpg saved\n",
      "Collecting image 2\n",
      "Image Tf1\\S\\S_2.jpg saved\n",
      "Collecting image 3\n",
      "Image Tf1\\S\\S_3.jpg saved\n",
      "Collecting images for H\n",
      "Collecting image 0\n",
      "Image Tf1\\H\\H_0.jpg saved\n",
      "Collecting image 1\n",
      "Image Tf1\\H\\H_1.jpg saved\n",
      "Collecting image 2\n",
      "Image Tf1\\H\\H_2.jpg saved\n",
      "Collecting image 3\n",
      "Image Tf1\\H\\H_3.jpg saved\n"
     ]
    }
   ],
   "source": [
    "# IP Webcam URL\n",
    "ipwebcam_url = 'http://192.168.43.72:8080/video'  # Replace with the IP Webcam URL\n",
    "\n",
    "for label in labels:\n",
    "    print('Collecting images for {}'.format(label))\n",
    "    time.sleep(3)\n",
    "    \n",
    "    # Connect to IP Webcam camera feed\n",
    "    cap = cv2.VideoCapture(ipwebcam_url)\n",
    "    \n",
    "    for imgnum in range(number_imgs):\n",
    "        print('Collecting image {}'.format(imgnum))\n",
    "        ret, frame = cap.read()\n",
    "        \n",
    "        # Check if frame is captured successfully\n",
    "        if ret:\n",
    "            imgname = os.path.join(IMAGES_PATH, label, '{}_{}.jpg'.format(label, imgnum))\n",
    "            cv2.imwrite(imgname, frame)\n",
    "            print('Image {} saved'.format(imgname))\n",
    "            \n",
    "            # Display image\n",
    "            cv2.imshow('frame', frame)\n",
    "            cv2.waitKey(3000)  # Display each image for 2 seconds\n",
    "        \n",
    "        # Exit loop if 'q' is pressed\n",
    "        if cv2.waitKey(1) & 0xFF == ord('q'):\n",
    "            break\n",
    "\n",
    "    # Release camera and close OpenCV windows\n",
    "    cap.release()\n",
    "    cv2.destroyAllWindows()"
   ]
  },
  {
   "cell_type": "code",
   "execution_count": 17,
   "id": "60dce5a0-b930-46bf-a46a-cc295bf51999",
   "metadata": {},
   "outputs": [],
   "source": [
    "fetch_and_display_image(ip_webcam_url)"
   ]
  }
 ],
 "metadata": {
  "kernelspec": {
   "display_name": "Python 3 (ipykernel)",
   "language": "python",
   "name": "python3"
  },
  "language_info": {
   "codemirror_mode": {
    "name": "ipython",
    "version": 3
   },
   "file_extension": ".py",
   "mimetype": "text/x-python",
   "name": "python",
   "nbconvert_exporter": "python",
   "pygments_lexer": "ipython3",
   "version": "3.11.4"
  }
 },
 "nbformat": 4,
 "nbformat_minor": 5
}
