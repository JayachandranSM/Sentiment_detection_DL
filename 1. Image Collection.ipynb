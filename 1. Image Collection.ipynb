{
 "cells": [
  {
   "cell_type": "markdown",
   "metadata": {},
   "source": [
    "# 1. Import Dependencies"
   ]
  },
  {
   "cell_type": "code",
   "execution_count": null,
   "metadata": {},
   "outputs": [],
   "source": [
    "#!pip install opencv-python"
   ]
  },
  {
   "cell_type": "code",
   "execution_count": 13,
   "metadata": {},
   "outputs": [],
   "source": [
    "# Import opencv\n",
    "import cv2 \n",
    "\n",
    "# Import uuid\n",
    "import uuid\n",
    "\n",
    "# Import Operating System\n",
    "import os\n",
    "\n",
    "# Import time\n",
    "import time"
   ]
  },
  {
   "cell_type": "markdown",
   "metadata": {},
   "source": [
    "# 1.x Connect from external device into laptop"
   ]
  },
  {
   "cell_type": "code",
   "execution_count": 5,
   "metadata": {},
   "outputs": [],
   "source": [
    "cap = cv2.VideoCapture(2)\n",
    "while True:\n",
    "    ret, frame = cap.read()\n",
    "    cv2.imshow('frame', frame)\n",
    "    if cv2.waitKey(1) & 0xFF == ord('q'):\n",
    "        break\n",
    "cap.release()\n",
    "cv2.destroyAllWindows()"
   ]
  },
  {
   "cell_type": "markdown",
   "metadata": {},
   "source": [
    "# 2. Define Images to Collect"
   ]
  },
  {
   "cell_type": "code",
   "execution_count": 14,
   "metadata": {},
   "outputs": [],
   "source": [
    "labels = ['Happy', 'Sad', 'Laugh', 'Cry']\n",
    "number_imgs = 10"
   ]
  },
  {
   "cell_type": "markdown",
   "metadata": {},
   "source": [
    "# 3. Setup Folders "
   ]
  },
  {
   "cell_type": "code",
   "execution_count": 15,
   "metadata": {},
   "outputs": [],
   "source": [
    "IMAGES_PATH = os.path.join('Tensorflow', 'workspace', 'images', 'collectedimages')"
   ]
  },
  {
   "cell_type": "code",
   "execution_count": 4,
   "metadata": {},
   "outputs": [
    {
     "name": "stdout",
     "output_type": "stream",
     "text": [
      "Tensorflow\\workspace\\images\\collectedimages\n"
     ]
    }
   ],
   "source": [
    "print(IMAGES_PATH)"
   ]
  },
  {
   "cell_type": "code",
   "execution_count": 16,
   "metadata": {},
   "outputs": [],
   "source": [
    "if not os.path.exists(IMAGES_PATH):\n",
    "    if os.name == 'posix':\n",
    "        !mkdir -p {IMAGES_PATH}\n",
    "    if os.name == 'nt':\n",
    "         !mkdir {IMAGES_PATH}"
   ]
  },
  {
   "cell_type": "code",
   "execution_count": 17,
   "metadata": {},
   "outputs": [],
   "source": [
    "for label in labels:\n",
    "    path = os.path.join(IMAGES_PATH, label)\n",
    "    if not os.path.exists(path):\n",
    "        !mkdir {path}"
   ]
  },
  {
   "cell_type": "markdown",
   "metadata": {},
   "source": [
    "# 4. Capture Images"
   ]
  },
  {
   "cell_type": "code",
   "execution_count": 51,
   "metadata": {},
   "outputs": [
    {
     "name": "stdout",
     "output_type": "stream",
     "text": [
      "Collecting images for Sad\n",
      "Collecting image 0\n",
      "Image Tensorflow\\workspace\\images\\collectedimages\\Sad\\Sad_0.jpg saved\n",
      "Collecting image 1\n",
      "Image Tensorflow\\workspace\\images\\collectedimages\\Sad\\Sad_1.jpg saved\n",
      "Collecting image 2\n",
      "Image Tensorflow\\workspace\\images\\collectedimages\\Sad\\Sad_2.jpg saved\n",
      "Collecting image 3\n",
      "Image Tensorflow\\workspace\\images\\collectedimages\\Sad\\Sad_3.jpg saved\n",
      "Collecting image 4\n",
      "Image Tensorflow\\workspace\\images\\collectedimages\\Sad\\Sad_4.jpg saved\n",
      "Collecting image 5\n",
      "Image Tensorflow\\workspace\\images\\collectedimages\\Sad\\Sad_5.jpg saved\n",
      "Collecting image 6\n",
      "Image Tensorflow\\workspace\\images\\collectedimages\\Sad\\Sad_6.jpg saved\n",
      "Collecting image 7\n",
      "Image Tensorflow\\workspace\\images\\collectedimages\\Sad\\Sad_7.jpg saved\n",
      "Collecting image 8\n",
      "Image Tensorflow\\workspace\\images\\collectedimages\\Sad\\Sad_8.jpg saved\n",
      "Collecting image 9\n",
      "Image Tensorflow\\workspace\\images\\collectedimages\\Sad\\Sad_9.jpg saved\n"
     ]
    }
   ],
   "source": [
    "# IP Webcam URL\n",
    "ipwebcam_url = 'http://192.168.43.72:8080/video'  # Replace with the IP Webcam URL\n",
    "\n",
    "for label in labels:\n",
    "    print('Collecting images for {}'.format(label))\n",
    "    time.sleep(5)\n",
    "    \n",
    "    # Connect to IP Webcam camera feed\n",
    "    cap = cv2.VideoCapture(ipwebcam_url)\n",
    "    \n",
    "    for imgnum in range(number_imgs):\n",
    "        print('Collecting image {}'.format(imgnum))\n",
    "        ret, frame = cap.read()\n",
    "        \n",
    "        # Check if frame is captured successfully\n",
    "        if ret:\n",
    "            imgname = os.path.join(IMAGES_PATH, label, '{}_{}.jpg'.format(label, imgnum))\n",
    "            cv2.imwrite(imgname, frame)\n",
    "            print('Image {} saved'.format(imgname))\n",
    "            \n",
    "            # Display image\n",
    "            cv2.imshow('frame', frame)\n",
    "            cv2.waitKey(2000)  # Display each image for 2 seconds\n",
    "        \n",
    "        # Exit loop if 'q' is pressed\n",
    "        if cv2.waitKey(1) & 0xFF == ord('q'):\n",
    "            break\n",
    "\n",
    "    # Release camera and close OpenCV windows\n",
    "    cap.release()\n",
    "    cv2.destroyAllWindows()"
   ]
  },
  {
   "cell_type": "code",
   "execution_count": null,
   "metadata": {},
   "outputs": [],
   "source": [
    "# DroidCam URL\n",
    "droidcam_url = 'http://192.168.43.72:4747:8080'  # Replace with the DroidCam URL\n",
    "for label in labels:\n",
    "    print('Collecting images for {}'.format(label))\n",
    "    time.sleep(5)\n",
    "    \n",
    "    # Connect to DroidCam camera feed\n",
    "    cap = cv2.VideoCapture(droidcam_url)\n",
    "    \n",
    "    for imgnum in range(number_imgs):\n",
    "        print('Collecting image {}'.format(imgnum))\n",
    "        ret, frame = cap.read()\n",
    "        imgname = os.path.join(IMAGES_PATH, label, '{}_{}.jpg'.format(label, imgnum))\n",
    "        cv2.imwrite(imgname, frame)\n",
    "        cv2.imshow('frame', frame)\n",
    "        cv2.waitKey(2000)  # Display each image for 2 seconds\n",
    "        \n",
    "        if cv2.waitKey(1) & 0xFF == ord('q'):\n",
    "            break\n",
    "\n",
    "cap.release()\n",
    "cv2.destroyAllWindows()"
   ]
  },
  {
   "cell_type": "code",
   "execution_count": 18,
   "metadata": {},
   "outputs": [
    {
     "name": "stdout",
     "output_type": "stream",
     "text": [
      "Collecting images for Happy\n",
      "Collecting image 0\n",
      "Collecting image 1\n",
      "Collecting image 2\n",
      "Collecting image 3\n",
      "Collecting image 4\n",
      "Collecting image 5\n",
      "Collecting image 6\n",
      "Collecting image 7\n",
      "Collecting image 8\n",
      "Collecting image 9\n",
      "Collecting images for Sad\n",
      "Collecting image 0\n",
      "Collecting image 1\n",
      "Collecting image 2\n",
      "Collecting image 3\n",
      "Collecting image 4\n",
      "Collecting image 5\n",
      "Collecting image 6\n",
      "Collecting image 7\n",
      "Collecting image 8\n",
      "Collecting image 9\n",
      "Collecting images for Laugh\n",
      "Collecting image 0\n",
      "Collecting image 1\n",
      "Collecting image 2\n",
      "Collecting image 3\n",
      "Collecting image 4\n",
      "Collecting image 5\n",
      "Collecting image 6\n",
      "Collecting image 7\n",
      "Collecting image 8\n",
      "Collecting image 9\n",
      "Collecting images for Cry\n",
      "Collecting image 0\n",
      "Collecting image 1\n",
      "Collecting image 2\n",
      "Collecting image 3\n",
      "Collecting image 4\n",
      "Collecting image 5\n",
      "Collecting image 6\n",
      "Collecting image 7\n",
      "Collecting image 8\n",
      "Collecting image 9\n"
     ]
    }
   ],
   "source": [
    "# using primary web cam\n",
    "for label in labels:\n",
    "    cap = cv2.VideoCapture(2)\n",
    "    print('Collecting images for {}'.format(label))\n",
    "    time.sleep(2)\n",
    "    for imgnum in range(number_imgs):\n",
    "        print('Collecting image {}'.format(imgnum))\n",
    "        ret, frame = cap.read()\n",
    "        imgname = os.path.join(IMAGES_PATH,label,label+'.'+'{}.jpg'.format(str(uuid.uuid1())))\n",
    "        cv2.imwrite(imgname, frame)\n",
    "        cv2.imshow('frame', frame)\n",
    "        time.sleep(2)\n",
    "\n",
    "        if cv2.waitKey(1) & 0xFF == ord('q'):\n",
    "            break\n",
    "cap.release()\n",
    "cv2.destroyAllWindows()"
   ]
  },
  {
   "cell_type": "markdown",
   "metadata": {},
   "source": [
    "# 5. Image Labelling"
   ]
  },
  {
   "cell_type": "code",
   "execution_count": 10,
   "metadata": {},
   "outputs": [],
   "source": [
    "#!pip install --upgrade pyqt5 lxml"
   ]
  },
  {
   "cell_type": "code",
   "execution_count": 19,
   "metadata": {},
   "outputs": [],
   "source": [
    "LABELIMG_PATH = os.path.join('Tensorflow', 'labelimg')"
   ]
  },
  {
   "cell_type": "code",
   "execution_count": 20,
   "metadata": {},
   "outputs": [],
   "source": [
    "if not os.path.exists(LABELIMG_PATH):\n",
    "    !mkdir {LABELIMG_PATH}\n",
    "    !git clone https://github.com/tzutalin/labelImg {LABELIMG_PATH} "
   ]
  },
  {
   "cell_type": "code",
   "execution_count": 23,
   "metadata": {},
   "outputs": [],
   "source": [
    "if os.name == 'posix':\n",
    "    !make qt5py3\n",
    "if os.name =='nt':\n",
    "    !cd {LABELIMG_PATH} && pyrcc5 -o libs/resources.py resources.qrc"
   ]
  },
  {
   "cell_type": "code",
   "execution_count": 24,
   "metadata": {},
   "outputs": [
    {
     "name": "stdout",
     "output_type": "stream",
     "text": [
      "Cancel creation.\n",
      "Image:D:\\Tensorflow Object Dectection\\TFODCourse\\Tensorflow\\workspace\\images\\collectedimages\\Happy\\Happy.2b68c655-cf04-11ee-a958-c27272bb2ac5.jpg -> Annotation:D:/Tensorflow Object Dectection/TFODCourse/Tensorflow/workspace/images/collectedimages/Happy\\Happy.2b68c655-cf04-11ee-a958-c27272bb2ac5.xml\n",
      "Image:D:\\Tensorflow Object Dectection\\TFODCourse\\Tensorflow\\workspace\\images\\collectedimages\\Happy\\Happy.2ca020fa-cf04-11ee-b3f3-c27272bb2ac5.jpg -> Annotation:D:/Tensorflow Object Dectection/TFODCourse/Tensorflow/workspace/images/collectedimages/Happy\\Happy.2ca020fa-cf04-11ee-b3f3-c27272bb2ac5.xml\n",
      "Image:D:\\Tensorflow Object Dectection\\TFODCourse\\Tensorflow\\workspace\\images\\collectedimages\\Happy\\Happy.2dd6db70-cf04-11ee-adeb-c27272bb2ac5.jpg -> Annotation:D:/Tensorflow Object Dectection/TFODCourse/Tensorflow/workspace/images/collectedimages/Happy\\Happy.2dd6db70-cf04-11ee-adeb-c27272bb2ac5.xml\n",
      "Image:D:\\Tensorflow Object Dectection\\TFODCourse\\Tensorflow\\workspace\\images\\collectedimages\\Happy\\Happy.2f0de5f5-cf04-11ee-9993-c27272bb2ac5.jpg -> Annotation:D:/Tensorflow Object Dectection/TFODCourse/Tensorflow/workspace/images/collectedimages/Happy\\Happy.2f0de5f5-cf04-11ee-9993-c27272bb2ac5.xml\n",
      "Image:D:\\Tensorflow Object Dectection\\TFODCourse\\Tensorflow\\workspace\\images\\collectedimages\\Happy\\Happy.27b900f1-cf04-11ee-8fb8-c27272bb2ac5.jpg -> Annotation:D:/Tensorflow Object Dectection/TFODCourse/Tensorflow/workspace/images/collectedimages/Happy\\Happy.27b900f1-cf04-11ee-8fb8-c27272bb2ac5.xml\n",
      "Image:D:\\Tensorflow Object Dectection\\TFODCourse\\Tensorflow\\workspace\\images\\collectedimages\\Happy\\Happy.28f9fee0-cf04-11ee-b4de-c27272bb2ac5.jpg -> Annotation:D:/Tensorflow Object Dectection/TFODCourse/Tensorflow/workspace/images/collectedimages/Happy\\Happy.28f9fee0-cf04-11ee-b4de-c27272bb2ac5.xml\n",
      "Image:D:\\Tensorflow Object Dectection\\TFODCourse\\Tensorflow\\workspace\\images\\collectedimages\\Happy\\Happy.32b257e0-cf04-11ee-b9fc-c27272bb2ac5.jpg -> Annotation:D:/Tensorflow Object Dectection/TFODCourse/Tensorflow/workspace/images/collectedimages/Happy\\Happy.32b257e0-cf04-11ee-b9fc-c27272bb2ac5.xml\n",
      "Image:D:\\Tensorflow Object Dectection\\TFODCourse\\Tensorflow\\workspace\\images\\collectedimages\\Happy\\Happy.317bc3a8-cf04-11ee-a622-c27272bb2ac5.jpg -> Annotation:D:/Tensorflow Object Dectection/TFODCourse/Tensorflow/workspace/images/collectedimages/Happy\\Happy.317bc3a8-cf04-11ee-a622-c27272bb2ac5.xml\n",
      "Image:D:\\Tensorflow Object Dectection\\TFODCourse\\Tensorflow\\workspace\\images\\collectedimages\\Happy\\Happy.3044b7a5-cf04-11ee-acd9-c27272bb2ac5.jpg -> Annotation:D:/Tensorflow Object Dectection/TFODCourse/Tensorflow/workspace/images/collectedimages/Happy\\Happy.3044b7a5-cf04-11ee-acd9-c27272bb2ac5.xml\n",
      "Image:D:\\Tensorflow Object Dectection\\TFODCourse\\Tensorflow\\workspace\\images\\collectedimages\\Laugh\\Laugh.4b106e19-cf04-11ee-a517-c27272bb2ac5.jpg -> Annotation:D:/Tensorflow Object Dectection/TFODCourse/Tensorflow/workspace/images/collectedimages/Laugh\\Laugh.4b106e19-cf04-11ee-a517-c27272bb2ac5.xml\n",
      "Image:D:\\Tensorflow Object Dectection\\TFODCourse\\Tensorflow\\workspace\\images\\collectedimages\\Laugh\\Laugh.4c47052f-cf04-11ee-96ff-c27272bb2ac5.jpg -> Annotation:D:/Tensorflow Object Dectection/TFODCourse/Tensorflow/workspace/images/collectedimages/Laugh\\Laugh.4c47052f-cf04-11ee-96ff-c27272bb2ac5.xml\n",
      "Image:D:\\Tensorflow Object Dectection\\TFODCourse\\Tensorflow\\workspace\\images\\collectedimages\\Laugh\\Laugh.4d7d0b1b-cf04-11ee-be7e-c27272bb2ac5.jpg -> Annotation:D:/Tensorflow Object Dectection/TFODCourse/Tensorflow/workspace/images/collectedimages/Laugh\\Laugh.4d7d0b1b-cf04-11ee-be7e-c27272bb2ac5.xml\n",
      "Image:D:\\Tensorflow Object Dectection\\TFODCourse\\Tensorflow\\workspace\\images\\collectedimages\\Laugh\\Laugh.43cb0932-cf04-11ee-811d-c27272bb2ac5.jpg -> Annotation:D:/Tensorflow Object Dectection/TFODCourse/Tensorflow/workspace/images/collectedimages/Laugh\\Laugh.43cb0932-cf04-11ee-811d-c27272bb2ac5.xml\n",
      "Image:D:\\Tensorflow Object Dectection\\TFODCourse\\Tensorflow\\workspace\\images\\collectedimages\\Laugh\\Laugh.48a45ed5-cf04-11ee-a203-c27272bb2ac5.jpg -> Annotation:D:/Tensorflow Object Dectection/TFODCourse/Tensorflow/workspace/images/collectedimages/Laugh\\Laugh.48a45ed5-cf04-11ee-a203-c27272bb2ac5.xml\n",
      "Image:D:\\Tensorflow Object Dectection\\TFODCourse\\Tensorflow\\workspace\\images\\collectedimages\\Laugh\\Laugh.49da6498-cf04-11ee-9acb-c27272bb2ac5.jpg -> Annotation:D:/Tensorflow Object Dectection/TFODCourse/Tensorflow/workspace/images/collectedimages/Laugh\\Laugh.49da6498-cf04-11ee-9acb-c27272bb2ac5.xml\n",
      "Image:D:\\Tensorflow Object Dectection\\TFODCourse\\Tensorflow\\workspace\\images\\collectedimages\\Laugh\\Laugh.476e0fb2-cf04-11ee-be43-c27272bb2ac5.jpg -> Annotation:D:/Tensorflow Object Dectection/TFODCourse/Tensorflow/workspace/images/collectedimages/Laugh\\Laugh.476e0fb2-cf04-11ee-be43-c27272bb2ac5.xml\n",
      "Image:D:\\Tensorflow Object Dectection\\TFODCourse\\Tensorflow\\workspace\\images\\collectedimages\\Laugh\\Laugh.4294e8a2-cf04-11ee-a9a3-c27272bb2ac5.jpg -> Annotation:D:/Tensorflow Object Dectection/TFODCourse/Tensorflow/workspace/images/collectedimages/Laugh\\Laugh.4294e8a2-cf04-11ee-a9a3-c27272bb2ac5.xml\n",
      "Image:D:\\Tensorflow Object Dectection\\TFODCourse\\Tensorflow\\workspace\\images\\collectedimages\\Laugh\\Laugh.4637b8b6-cf04-11ee-a90c-c27272bb2ac5.jpg -> Annotation:D:/Tensorflow Object Dectection/TFODCourse/Tensorflow/workspace/images/collectedimages/Laugh\\Laugh.4637b8b6-cf04-11ee-a90c-c27272bb2ac5.xml\n",
      "Image:D:\\Tensorflow Object Dectection\\TFODCourse\\Tensorflow\\workspace\\images\\collectedimages\\Laugh\\Laugh.45013085-cf04-11ee-b82f-c27272bb2ac5.jpg -> Annotation:D:/Tensorflow Object Dectection/TFODCourse/Tensorflow/workspace/images/collectedimages/Laugh\\Laugh.45013085-cf04-11ee-b82f-c27272bb2ac5.xml\n",
      "Image:D:\\Tensorflow Object Dectection\\TFODCourse\\Tensorflow\\workspace\\images\\collectedimages\\Sad\\Sad.3a0891f1-cf04-11ee-8549-c27272bb2ac5.jpg -> Annotation:D:/Tensorflow Object Dectection/TFODCourse/Tensorflow/workspace/images/collectedimages/Sad\\Sad.3a0891f1-cf04-11ee-8549-c27272bb2ac5.xml\n",
      "Image:D:\\Tensorflow Object Dectection\\TFODCourse\\Tensorflow\\workspace\\images\\collectedimages\\Sad\\Sad.3b3ec5b8-cf04-11ee-bba6-c27272bb2ac5.jpg -> Annotation:D:/Tensorflow Object Dectection/TFODCourse/Tensorflow/workspace/images/collectedimages/Sad\\Sad.3b3ec5b8-cf04-11ee-bba6-c27272bb2ac5.xml\n",
      "Image:D:\\Tensorflow Object Dectection\\TFODCourse\\Tensorflow\\workspace\\images\\collectedimages\\Sad\\Sad.3c74f13f-cf04-11ee-8847-c27272bb2ac5.jpg -> Annotation:D:/Tensorflow Object Dectection/TFODCourse/Tensorflow/workspace/images/collectedimages/Sad\\Sad.3c74f13f-cf04-11ee-8847-c27272bb2ac5.xml\n",
      "Image:D:\\Tensorflow Object Dectection\\TFODCourse\\Tensorflow\\workspace\\images\\collectedimages\\Sad\\Sad.3dab18e2-cf04-11ee-9a9e-c27272bb2ac5.jpg -> Annotation:D:/Tensorflow Object Dectection/TFODCourse/Tensorflow/workspace/images/collectedimages/Sad\\Sad.3dab18e2-cf04-11ee-9a9e-c27272bb2ac5.xml\n",
      "Image:D:\\Tensorflow Object Dectection\\TFODCourse\\Tensorflow\\workspace\\images\\collectedimages\\Sad\\Sad.3ee1dd42-cf04-11ee-afff-c27272bb2ac5.jpg -> Annotation:D:/Tensorflow Object Dectection/TFODCourse/Tensorflow/workspace/images/collectedimages/Sad\\Sad.3ee1dd42-cf04-11ee-afff-c27272bb2ac5.xml\n",
      "Image:D:\\Tensorflow Object Dectection\\TFODCourse\\Tensorflow\\workspace\\images\\collectedimages\\Sad\\Sad.38d25a6a-cf04-11ee-b302-c27272bb2ac5.jpg -> Annotation:D:/Tensorflow Object Dectection/TFODCourse/Tensorflow/workspace/images/collectedimages/Sad\\Sad.38d25a6a-cf04-11ee-b302-c27272bb2ac5.xml\n",
      "Image:D:\\Tensorflow Object Dectection\\TFODCourse\\Tensorflow\\workspace\\images\\collectedimages\\Sad\\Sad.3665e00d-cf04-11ee-9b99-c27272bb2ac5.jpg -> Annotation:D:/Tensorflow Object Dectection/TFODCourse/Tensorflow/workspace/images/collectedimages/Sad\\Sad.3665e00d-cf04-11ee-9b99-c27272bb2ac5.xml\n",
      "Image:D:\\Tensorflow Object Dectection\\TFODCourse\\Tensorflow\\workspace\\images\\collectedimages\\Sad\\Sad.4017c3ec-cf04-11ee-8817-c27272bb2ac5.jpg -> Annotation:D:/Tensorflow Object Dectection/TFODCourse/Tensorflow/workspace/images/collectedimages/Sad\\Sad.4017c3ec-cf04-11ee-8817-c27272bb2ac5.xml\n",
      "Image:D:\\Tensorflow Object Dectection\\TFODCourse\\Tensorflow\\workspace\\images\\collectedimages\\Sad\\Sad.379c121b-cf04-11ee-b2ed-c27272bb2ac5.jpg -> Annotation:D:/Tensorflow Object Dectection/TFODCourse/Tensorflow/workspace/images/collectedimages/Sad\\Sad.379c121b-cf04-11ee-b2ed-c27272bb2ac5.xml\n"
     ]
    }
   ],
   "source": [
    "!cd {LABELIMG_PATH} && python labelImg.py"
   ]
  },
  {
   "cell_type": "markdown",
   "metadata": {},
   "source": [
    "# 6. Move them into a Training and Testing Partition"
   ]
  },
  {
   "cell_type": "markdown",
   "metadata": {},
   "source": [
    "# OPTIONAL - 7. Compress them for Colab Training"
   ]
  },
  {
   "cell_type": "code",
   "execution_count": null,
   "metadata": {},
   "outputs": [],
   "source": [
    "TRAIN_PATH = os.path.join('Tensorflow', 'workspace', 'images', 'train')\n",
    "TEST_PATH = os.path.join('Tensorflow', 'workspace', 'images', 'test')\n",
    "ARCHIVE_PATH = os.path.join('Tensorflow', 'workspace', 'images', 'archive.tar.gz')"
   ]
  },
  {
   "cell_type": "code",
   "execution_count": null,
   "metadata": {},
   "outputs": [],
   "source": [
    "!tar -czf {ARCHIVE_PATH} {TRAIN_PATH} {TEST_PATH}"
   ]
  },
  {
   "cell_type": "code",
   "execution_count": null,
   "metadata": {},
   "outputs": [],
   "source": []
  }
 ],
 "metadata": {
  "kernelspec": {
   "display_name": "tfod",
   "language": "python",
   "name": "tfod"
  },
  "language_info": {
   "codemirror_mode": {
    "name": "ipython",
    "version": 3
   },
   "file_extension": ".py",
   "mimetype": "text/x-python",
   "name": "python",
   "nbconvert_exporter": "python",
   "pygments_lexer": "ipython3",
   "version": "3.11.4"
  }
 },
 "nbformat": 4,
 "nbformat_minor": 4
}
